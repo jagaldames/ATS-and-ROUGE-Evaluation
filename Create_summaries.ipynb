{
 "cells": [
  {
   "cell_type": "code",
   "execution_count": 3,
   "metadata": {},
   "outputs": [],
   "source": [
    "import spacy\n",
    "import pytextrank\n",
    "import json\n"
   ]
  },
  {
   "cell_type": "markdown",
   "metadata": {},
   "source": [
    "# Cargar las respuestas de la Actividad 1"
   ]
  },
  {
   "cell_type": "code",
   "execution_count": 4,
   "metadata": {},
   "outputs": [],
   "source": [
    "\n",
    "\n",
    "# Para descargar el core\n",
    "# $ python -m spacy download es_core_news_md\n",
    "nlp = spacy.load('es_core_news_md')\n",
    "with open('respuestas_ac01.json', 'r', encoding='utf-8') as ac1:\n",
    "    text = json.load(ac1)\n",
    "    all_text = ''\n",
    "    for sentence in text:\n",
    "        # print(sentence)\n",
    "        all_text += sentence + ' '\n",
    "\n",
    "    # print(all_text)\n",
    "\n",
    "\n"
   ]
  },
  {
   "cell_type": "markdown",
   "metadata": {},
   "source": [
    "# Textrank"
   ]
  },
  {
   "cell_type": "code",
   "execution_count": 5,
   "metadata": {},
   "outputs": [],
   "source": [
    "\n",
    "nlp.add_pipe(\"textrank\")\n",
    "result = nlp(all_text)\n",
    "\n"
   ]
  },
  {
   "cell_type": "code",
   "execution_count": 6,
   "metadata": {},
   "outputs": [
    {
     "name": "stdout",
     "output_type": "stream",
     "text": [
      "** Se debe realizar un flujo de caja libre que incluya todos los ingresos y costos incrementales que se generen por la implementación del nuevo sistema, considerando la inversión, depreciando esta de ser posible y analizando los puntos mencionados en la pregunta 1.\n",
      "** Por otro lado se agregan costos nuevos asociados al software, por lo que habría que analizar si efectivamente con estos costos extras se logra una utilidad mayor o bien es mejor quedarse sin el sistema.\n",
      "** Otro posible efecto en los costos del sistema, sería que disminuyeran en el tiempo, debido a que el sistema antes usado era tan malos que hacía que el hospital tuviera costos mayores de otras índoles y que ahora ya no existan, sin embargo este caso sería menos probable.\n",
      "** Utilizando números, si se tienen los siguientes costos: I es el costo de instalación, L es el precio de la renovación de licencia que se paga cada dos años, N es el costo del nuevo sistema que se paga solo a los 6 años desde hoy, G serán todos los ingresos estimados anualmente.\n",
      "193\n"
     ]
    }
   ],
   "source": [
    "# Lo dejamos en 5 oraciones\n",
    "palabras = 0\n",
    "for sentence in result._.textrank.summary(limit_sentences=4):\n",
    "    palabras += len(sentence)\n",
    "    print('** ' + str(sentence))\n",
    "\n",
    "print(palabras)\n",
    "\n"
   ]
  },
  {
   "cell_type": "markdown",
   "metadata": {},
   "source": [
    "# Luhn"
   ]
  },
  {
   "cell_type": "code",
   "execution_count": 8,
   "metadata": {},
   "outputs": [
    {
     "name": "stdout",
     "output_type": "stream",
     "text": [
      "*  Los posibles efectos que podría tener la instalación de este nuevo sistema SAP, podrían ser minimizar las pérdidas de tiempo en la atención de clientes de manera de poder atender a la mayor cantidad de ellos y por ende, tener más ingresos; en términos de logística hospitalaria, se podría determinar de mejor la cantidad óptima de suministros que requiera cada sector del hospital en base a la cantidad de pacientes promedio por sector, para así minimizar los costos para cada sector, como también minimizar los costos asociados a la compra y reparto de dichos suministros; en cuanto a la contabilidad, dependiendo del nivel de mejora en el sistema, se podría prescindir del numero de personas encargados de la contabilidad si se trata de un sistema autónomo, de manera de disminuir costos; y por último, en cuanto a los recursos humanos, se podría optimizar el número de personas por sector del hospital, de manera de que no haya una mala distribución de personal o personal de sobra en sectores, de manera de minimizar los costos asociados a sus pagos.\n",
      "1057\n"
     ]
    }
   ],
   "source": [
    "from luhn import *\n",
    "\n",
    "slist = summarize('respuestas_ac01.json' ,'luhn_summary.txt' ,  1)\n",
    "for s in slist :\n",
    "    print(s)\n",
    "    print(len(s))"
   ]
  },
  {
   "cell_type": "markdown",
   "metadata": {},
   "source": [
    "## Luhn in Sumy"
   ]
  },
  {
   "cell_type": "code",
   "execution_count": 10,
   "metadata": {},
   "outputs": [],
   "source": [
    "from sumy.parsers.plaintext import PlaintextParser\n",
    "from sumy.nlp.tokenizers import Tokenizer\n",
    "from sumy.summarizers.luhn import LuhnSummarizer"
   ]
  },
  {
   "cell_type": "code",
   "execution_count": 13,
   "metadata": {},
   "outputs": [
    {
     "name": "stdout",
     "output_type": "stream",
     "text": [
      "** Los posibles efectos que podría tener la instalación de este nuevo sistema SAP, podrían ser minimizar las pérdidas de tiempo en la atención de clientes de manera de poder atender a la mayor cantidad de ellos y por ende, tener más ingresos; en términos de logística hospitalaria, se podría determinar de mejor la cantidad óptima de suministros que requiera cada sector del hospital en base a la cantidad de pacientes promedio por sector, para así minimizar los costos para cada sector, como también minimizar los costos asociados a la compra y reparto de dichos suministros; en cuanto a la contabilidad, dependiendo del nivel de mejora en el sistema, se podría prescindir del numero de personas encargados de la contabilidad si se trata de un sistema autónomo, de manera de disminuir costos; y por último, en cuanto a los recursos humanos, se podría optimizar el número de personas por sector del hospital, de manera de que no haya una mala distribución de personal o personal de sobra en sectores, de manera de minimizar los costos asociados a sus pagos.\n",
      "178\n"
     ]
    }
   ],
   "source": [
    "# For Strings\n",
    "parser=PlaintextParser.from_string(all_text,Tokenizer(\"english\"))\n",
    "# Using KL\n",
    "summarizer = LuhnSummarizer()\n",
    "#Summarize the document with 4 sentences\n",
    "summary = summarizer(parser.document,1)\n",
    "\n",
    "palabras = 0\n",
    "for sentence in summary:\n",
    "    print('** ' + str(sentence))\n",
    "    palabras += len(str(sentence).split(\" \"))\n",
    "print(palabras)\n"
   ]
  },
  {
   "cell_type": "markdown",
   "metadata": {},
   "source": [
    "# LSA"
   ]
  },
  {
   "cell_type": "code",
   "execution_count": 16,
   "metadata": {},
   "outputs": [
    {
     "name": "stdout",
     "output_type": "stream",
     "text": [
      "** Por otra parte, se podrían generar ingresos si el sistema genera mayor eficiencia en la coordinación del hospital, ya sea ahorrando costos o contribuyendo a producir utilidades.\n",
      "** Otro aspecto puede ser ganancias por un mejor servicio al cliente, donde disminuya la cantidad de demandas o problemas con clientes que se resuelven en pagos.\n",
      "** Sin embargo, se debe considerar que la finalidad de implementar esta mejora (local) beneficiará a muchas otras áreas ya mencionadas en el enunciado (global).\n",
      "** Por otra parte, puede pasar que los costos se mantengan relativamente constantes, generando una perdida debido a la inversión del SAP y el pago de licencia.\n",
      "** Siguiendo este mismo punto, un hospital se encarga del bienestar de las personas por lo que a mi juicio la decisión no puede ser solamente económica, sino también social.\n",
      "** Con este sistema se podrá procesar y cruzar los datos relacionados al funcionamiento del hospital pudiendo realizar una mejor asignación de camillas, consultas, operaciones etc.\n",
      "** Luego, podemos suponer que puede tratarse de un establecimiento derechamente publico, en donde las personas reciben atención medica sin costo, o a uno muy bajo.\n",
      "182\n",
      "None\n"
     ]
    }
   ],
   "source": [
    "from sumy.summarizers.lsa import LsaSummarizer\n",
    "\n",
    "def lsa_method(text):\n",
    "    parser = PlaintextParser.from_string(text, Tokenizer(\"english\"))\n",
    "\n",
    "    summarizer_lsa = LsaSummarizer()\n",
    "    summary_2 = summarizer_lsa(parser.document, 7)\n",
    "\n",
    "    '''dp = []\n",
    "\n",
    "    for i in summary_2:\n",
    "        lp = str(i)\n",
    "        dp.append(lp)\n",
    "    \n",
    "    final_sentence = ' '.join(dp)\n",
    "    return final_sentence'''\n",
    "\n",
    "    palabras = 0\n",
    "    for sentence in summary_2:\n",
    "        print('** ' + str(sentence))\n",
    "        palabras += len(str(sentence).split(\" \"))\n",
    "\n",
    "    print(palabras)\n",
    "\n",
    "\n",
    "print(lsa_method(all_text))"
   ]
  },
  {
   "cell_type": "markdown",
   "metadata": {},
   "source": [
    "# LexRank"
   ]
  },
  {
   "cell_type": "code",
   "execution_count": 17,
   "metadata": {},
   "outputs": [
    {
     "name": "stdout",
     "output_type": "stream",
     "text": [
      "193\n",
      "\n",
      " ** Se debe realizar un flujo de caja libre con los factores incrementales, tanto costos como ingresos, los costos vienen dados por una inversión inicial (año 0) por la instalación del sistema SAP, la renovación de la licencia del software cada dos años y luego, en el año 6, se tiene la opción de comprar la nueva versión del software como pago único o continuar con el software anterior e ir renovandola cada dos años, ademas se deben considerar los gastos de administración por ventas, la depreciación del sistema SAP, entre otros factores.\n",
      " ** Para esto hay que considerar los costos asociados al software los primeros 6 años, la posible disminución de costos e aumento de ingresos a perpetuidad y analizar si el valor presente neto del proyecto es positivo.\n",
      " ** La implementación del sistema SAP puede significar un aumento en los ingresos del hospital, esto se debe a que la integración de un sistema de información puede lograr una disminución en los tiempos de espera de los pacientes, lo que a su vez, puede llevar a un aumento  en la demanda de los servicios del hospital, lo que genera un aumento en los ingresos.\n"
     ]
    }
   ],
   "source": [
    "# Load Packages\n",
    "from sumy.parsers.plaintext import PlaintextParser\n",
    "from sumy.nlp.tokenizers import Tokenizer\n",
    "from sumy.summarizers.lex_rank import LexRankSummarizer\n",
    "\n",
    "# Creating text parser using tokenization\n",
    "# Summarize using sumy TextRank\n",
    "\n",
    "def sumy_method(text):\n",
    "    parser = PlaintextParser.from_string(text, Tokenizer(\"english\"))\n",
    "    summarizer = LexRankSummarizer()\n",
    "    summary = summarizer(parser.document, 3)\n",
    "\n",
    "    text_summary = \"\"\n",
    "    palabras = 0\n",
    "    for sentence in summary:\n",
    "        text_summary += '\\n ** ' + str(sentence)\n",
    "        palabras += len(str(sentence).split(\" \"))\n",
    "    print(palabras)\n",
    "\n",
    "    return text_summary\n",
    "\n",
    "print(sumy_method(all_text))"
   ]
  },
  {
   "cell_type": "markdown",
   "metadata": {},
   "source": [
    "# KL Sum"
   ]
  },
  {
   "cell_type": "code",
   "execution_count": 5,
   "metadata": {},
   "outputs": [
    {
     "name": "stdout",
     "output_type": "stream",
     "text": [
      "\n",
      " ** VAN 1 = -2,59Po - 0,630P +12,5I VAN 2= -7,010Po + 12,5I\n",
      " ** Lo que es certero es que la implementación del sistema SAP significa una inversión inicial por la instalación del sistema y costos a pagar cada dos años para mantener la licencia del software, lo que significa una pérdida para la empresa.\n",
      " ** Todos estos son costos.\n",
      " ** Existen diversos efectos asociados a la implementación del sistema.\n",
      " ** Implementar este sistema SAP tendría diferentes costos asociados.\n",
      " ** Y por último, habría que pagar la licencia correspondiente al año 6.\n",
      " ** Aumentar la cantidad.\n",
      " ** - La instalación es única y  la misma para ambas versiones del software (no hay que cambiar intalación por cambiar versión del software).\n",
      " ** Mientras que la 2da opción implica pagos periódicos que pueden ser ascendentes y provocar mayores gastos.\n",
      " ** Caso 1: Ingreso mayor que costos.\n",
      " ** Es decir, VAN mayor que cero.\n",
      " ** Tasa cada dos años: (1+r_1)^2 = (1+r_2) -> r_2 =  (1+r_1)^2 - 1\n",
      " ** Y luego vuelve a existir una inversión debido a la nueva versión del software.\n"
     ]
    }
   ],
   "source": [
    "from sumy.summarizers.kl import KLSummarizer\n",
    "\n",
    "def kl_method(text):\n",
    "    parser = PlaintextParser.from_string(text, Tokenizer(\"english\"))\n",
    "    summarizer_kl = KLSummarizer()# Summarize using sumy KL Divergence\n",
    "    summary =summarizer_kl(parser.document,13)\n",
    "    kl_summary=\"\"\n",
    "    for sentence in summary:\n",
    "        kl_summary+='\\n ** ' +str(sentence)  \n",
    "\n",
    "    return kl_summary\n",
    "\n",
    "print(kl_method(all_text))"
   ]
  }
 ],
 "metadata": {
  "kernelspec": {
   "display_name": "Python 3.11.0 64-bit",
   "language": "python",
   "name": "python3"
  },
  "language_info": {
   "codemirror_mode": {
    "name": "ipython",
    "version": 3
   },
   "file_extension": ".py",
   "mimetype": "text/x-python",
   "name": "python",
   "nbconvert_exporter": "python",
   "pygments_lexer": "ipython3",
   "version": "3.11.0"
  },
  "orig_nbformat": 4,
  "vscode": {
   "interpreter": {
    "hash": "cf24366f52d8e29001bcdcb26725358c646849f8ca06e3e9bd19713b3caa3cb0"
   }
  }
 },
 "nbformat": 4,
 "nbformat_minor": 2
}
